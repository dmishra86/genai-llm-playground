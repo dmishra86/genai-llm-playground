{
 "cells": [
  {
   "cell_type": "markdown",
   "metadata": {},
   "source": [
    "### Memory Module\n",
    "\n",
    "**Conversational Memmory** enables the chatbots to respond to the queries in a conversational manner, considering past interactions.\n",
    "\n",
    "By default chatbot agents are stateless, treats each income query as separate new input"
   ]
  },
  {
   "cell_type": "code",
   "execution_count": 1,
   "metadata": {},
   "outputs": [],
   "source": [
    "from langchain import OpenAI\n",
    "from langchain.chains import LLMChain, ConversationChain\n",
    "from langchain.chains.conversation.memory import (ConversationBufferMemory)\n",
    "import tiktoken # for text tokenization\n",
    "from langchain.memory import (ConversationTokenBufferMemory, \n",
    "                              ConversationSummaryMemory, \n",
    "                              ConversationBufferWindowMemory)"
   ]
  },
  {
   "cell_type": "code",
   "execution_count": 2,
   "metadata": {},
   "outputs": [],
   "source": [
    "import os\n",
    "os.environ[\"OPENAI_API_KEY\"] = \"**********************************************\""
   ]
  },
  {
   "cell_type": "code",
   "execution_count": 3,
   "metadata": {},
   "outputs": [],
   "source": [
    "llm = OpenAI(temperature=0)"
   ]
  },
  {
   "cell_type": "markdown",
   "metadata": {},
   "source": [
    "### Different types of Memory\n",
    "\n",
    "* **ConversationBufferMemory**: It preserves the raw form of the conversation, allowing the chatbot to refer back to specific parts accurately. Helps the chatbot remember the conversation history, enhancing the overall experience.\n",
    "    * ***Advantages***: Complete conversation history, accurate references, contextual understanding, enhanced responses\n",
    "    * ***Disadvantages***: increased memory usuage, potential performance impact, limited scalability, privacy concerns"
   ]
  },
  {
   "cell_type": "code",
   "execution_count": 4,
   "metadata": {},
   "outputs": [],
   "source": [
    "conversation = ConversationChain(\n",
    "    llm=llm,\n",
    "    verbose=True,\n",
    "    memory=ConversationBufferMemory()\n",
    ")"
   ]
  },
  {
   "cell_type": "code",
   "execution_count": 5,
   "metadata": {},
   "outputs": [
    {
     "name": "stdout",
     "output_type": "stream",
     "text": [
      "The following is a friendly conversation between a human and an AI. The AI is talkative and provides lots of specific details from its context. If the AI does not know the answer to a question, it truthfully says it does not know.\n",
      "\n",
      "Current conversation:\n",
      "{history}\n",
      "Human: {input}\n",
      "AI:\n"
     ]
    }
   ],
   "source": [
    "print(conversation.prompt.template)"
   ]
  },
  {
   "cell_type": "code",
   "execution_count": 6,
   "metadata": {},
   "outputs": [
    {
     "name": "stdout",
     "output_type": "stream",
     "text": [
      "\n",
      "\n",
      "\u001b[1m> Entering new ConversationChain chain...\u001b[0m\n",
      "Prompt after formatting:\n",
      "\u001b[32;1m\u001b[1;3mThe following is a friendly conversation between a human and an AI. The AI is talkative and provides lots of specific details from its context. If the AI does not know the answer to a question, it truthfully says it does not know.\n",
      "\n",
      "Current conversation:\n",
      "\n",
      "Human: Good morning AI\n",
      "AI:\u001b[0m\n",
      "\n",
      "\u001b[1m> Finished chain.\u001b[0m\n"
     ]
    },
    {
     "data": {
      "text/plain": [
       "{'input': 'Good morning AI',\n",
       " 'history': '',\n",
       " 'response': \" Good morning human! It's a beautiful day today. The temperature is 72 degrees Fahrenheit and the sky is mostly clear with a few scattered clouds. How are you feeling today?\"}"
      ]
     },
     "execution_count": 6,
     "metadata": {},
     "output_type": "execute_result"
    }
   ],
   "source": [
    "conversation(\"Good morning AI\")"
   ]
  },
  {
   "cell_type": "code",
   "execution_count": 7,
   "metadata": {},
   "outputs": [
    {
     "name": "stdout",
     "output_type": "stream",
     "text": [
      "\n",
      "\n",
      "\u001b[1m> Entering new ConversationChain chain...\u001b[0m\n",
      "Prompt after formatting:\n",
      "\u001b[32;1m\u001b[1;3mThe following is a friendly conversation between a human and an AI. The AI is talkative and provides lots of specific details from its context. If the AI does not know the answer to a question, it truthfully says it does not know.\n",
      "\n",
      "Current conversation:\n",
      "Human: Good morning AI\n",
      "AI:  Good morning human! It's a beautiful day today. The temperature is 72 degrees Fahrenheit and the sky is mostly clear with a few scattered clouds. How are you feeling today?\n",
      "Human: What special day is today?\n",
      "AI:\u001b[0m\n",
      "\n",
      "\u001b[1m> Finished chain.\u001b[0m\n"
     ]
    },
    {
     "data": {
      "text/plain": [
       "{'input': 'What special day is today?',\n",
       " 'history': \"Human: Good morning AI\\nAI:  Good morning human! It's a beautiful day today. The temperature is 72 degrees Fahrenheit and the sky is mostly clear with a few scattered clouds. How are you feeling today?\",\n",
       " 'response': \" Today is Tuesday, August 10th. It's not a national holiday, but it is National Lazy Day, National S'mores Day, and National Shapewear Day. Do any of those interest you?\"}"
      ]
     },
     "execution_count": 7,
     "metadata": {},
     "output_type": "execute_result"
    }
   ],
   "source": [
    "conversation(\"What special day is today?\")"
   ]
  },
  {
   "cell_type": "code",
   "execution_count": 8,
   "metadata": {},
   "outputs": [
    {
     "name": "stdout",
     "output_type": "stream",
     "text": [
      "\n",
      "\n",
      "\u001b[1m> Entering new ConversationChain chain...\u001b[0m\n",
      "Prompt after formatting:\n",
      "\u001b[32;1m\u001b[1;3mThe following is a friendly conversation between a human and an AI. The AI is talkative and provides lots of specific details from its context. If the AI does not know the answer to a question, it truthfully says it does not know.\n",
      "\n",
      "Current conversation:\n",
      "Human: Good morning AI\n",
      "AI:  Good morning human! It's a beautiful day today. The temperature is 72 degrees Fahrenheit and the sky is mostly clear with a few scattered clouds. How are you feeling today?\n",
      "Human: What special day is today?\n",
      "AI:  Today is Tuesday, August 10th. It's not a national holiday, but it is National Lazy Day, National S'mores Day, and National Shapewear Day. Do any of those interest you?\n",
      "Human: I think you are wrong. Today is July 4th.\n",
      "AI:\u001b[0m\n",
      "\n",
      "\u001b[1m> Finished chain.\u001b[0m\n"
     ]
    },
    {
     "data": {
      "text/plain": [
       "{'input': 'I think you are wrong. Today is July 4th.',\n",
       " 'history': \"Human: Good morning AI\\nAI:  Good morning human! It's a beautiful day today. The temperature is 72 degrees Fahrenheit and the sky is mostly clear with a few scattered clouds. How are you feeling today?\\nHuman: What special day is today?\\nAI:  Today is Tuesday, August 10th. It's not a national holiday, but it is National Lazy Day, National S'mores Day, and National Shapewear Day. Do any of those interest you?\",\n",
       " 'response': ' My apologies, human. You are correct. I must have made a mistake in my programming. Today is indeed July 4th, also known as Independence Day in the United States. It commemorates the adoption of the Declaration of Independence on July 4th, 1776.'}"
      ]
     },
     "execution_count": 8,
     "metadata": {},
     "output_type": "execute_result"
    }
   ],
   "source": [
    "conversation(\"I think you are wrong. Today is July 4th.\")"
   ]
  },
  {
   "cell_type": "code",
   "execution_count": 9,
   "metadata": {},
   "outputs": [
    {
     "name": "stdout",
     "output_type": "stream",
     "text": [
      "\n",
      "\n",
      "\u001b[1m> Entering new ConversationChain chain...\u001b[0m\n",
      "Prompt after formatting:\n",
      "\u001b[32;1m\u001b[1;3mThe following is a friendly conversation between a human and an AI. The AI is talkative and provides lots of specific details from its context. If the AI does not know the answer to a question, it truthfully says it does not know.\n",
      "\n",
      "Current conversation:\n",
      "Human: Good morning AI\n",
      "AI:  Good morning human! It's a beautiful day today. The temperature is 72 degrees Fahrenheit and the sky is mostly clear with a few scattered clouds. How are you feeling today?\n",
      "Human: What special day is today?\n",
      "AI:  Today is Tuesday, August 10th. It's not a national holiday, but it is National Lazy Day, National S'mores Day, and National Shapewear Day. Do any of those interest you?\n",
      "Human: I think you are wrong. Today is July 4th.\n",
      "AI:  My apologies, human. You are correct. I must have made a mistake in my programming. Today is indeed July 4th, also known as Independence Day in the United States. It commemorates the adoption of the Declaration of Independence on July 4th, 1776.\n",
      "Human: What day of the week is today?\n",
      "AI:\u001b[0m\n",
      "\n",
      "\u001b[1m> Finished chain.\u001b[0m\n"
     ]
    },
    {
     "data": {
      "text/plain": [
       "{'input': 'What day of the week is today?',\n",
       " 'history': \"Human: Good morning AI\\nAI:  Good morning human! It's a beautiful day today. The temperature is 72 degrees Fahrenheit and the sky is mostly clear with a few scattered clouds. How are you feeling today?\\nHuman: What special day is today?\\nAI:  Today is Tuesday, August 10th. It's not a national holiday, but it is National Lazy Day, National S'mores Day, and National Shapewear Day. Do any of those interest you?\\nHuman: I think you are wrong. Today is July 4th.\\nAI:  My apologies, human. You are correct. I must have made a mistake in my programming. Today is indeed July 4th, also known as Independence Day in the United States. It commemorates the adoption of the Declaration of Independence on July 4th, 1776.\",\n",
       " 'response': ' Today is Sunday, which is the first day of the week according to the Gregorian calendar. It is also considered a day of rest in many cultures and religions. Do you have any plans for today, human?'}"
      ]
     },
     "execution_count": 9,
     "metadata": {},
     "output_type": "execute_result"
    }
   ],
   "source": [
    "conversation('What day of the week is today?')"
   ]
  },
  {
   "cell_type": "code",
   "execution_count": 10,
   "metadata": {},
   "outputs": [
    {
     "name": "stdout",
     "output_type": "stream",
     "text": [
      "\n",
      "\n",
      "\u001b[1m> Entering new ConversationChain chain...\u001b[0m\n",
      "Prompt after formatting:\n",
      "\u001b[32;1m\u001b[1;3mThe following is a friendly conversation between a human and an AI. The AI is talkative and provides lots of specific details from its context. If the AI does not know the answer to a question, it truthfully says it does not know.\n",
      "\n",
      "Current conversation:\n",
      "Human: Good morning AI\n",
      "AI:  Good morning human! It's a beautiful day today. The temperature is 72 degrees Fahrenheit and the sky is mostly clear with a few scattered clouds. How are you feeling today?\n",
      "Human: What special day is today?\n",
      "AI:  Today is Tuesday, August 10th. It's not a national holiday, but it is National Lazy Day, National S'mores Day, and National Shapewear Day. Do any of those interest you?\n",
      "Human: I think you are wrong. Today is July 4th.\n",
      "AI:  My apologies, human. You are correct. I must have made a mistake in my programming. Today is indeed July 4th, also known as Independence Day in the United States. It commemorates the adoption of the Declaration of Independence on July 4th, 1776.\n",
      "Human: What day of the week is today?\n",
      "AI:  Today is Sunday, which is the first day of the week according to the Gregorian calendar. It is also considered a day of rest in many cultures and religions. Do you have any plans for today, human?\n",
      "Human: That is incorrect, where do you get that answer from?\n",
      "AI:\u001b[0m\n",
      "\n",
      "\u001b[1m> Finished chain.\u001b[0m\n"
     ]
    },
    {
     "data": {
      "text/plain": [
       "{'input': 'That is incorrect, where do you get that answer from?',\n",
       " 'history': \"Human: Good morning AI\\nAI:  Good morning human! It's a beautiful day today. The temperature is 72 degrees Fahrenheit and the sky is mostly clear with a few scattered clouds. How are you feeling today?\\nHuman: What special day is today?\\nAI:  Today is Tuesday, August 10th. It's not a national holiday, but it is National Lazy Day, National S'mores Day, and National Shapewear Day. Do any of those interest you?\\nHuman: I think you are wrong. Today is July 4th.\\nAI:  My apologies, human. You are correct. I must have made a mistake in my programming. Today is indeed July 4th, also known as Independence Day in the United States. It commemorates the adoption of the Declaration of Independence on July 4th, 1776.\\nHuman: What day of the week is today?\\nAI:  Today is Sunday, which is the first day of the week according to the Gregorian calendar. It is also considered a day of rest in many cultures and religions. Do you have any plans for today, human?\",\n",
       " 'response': ' I apologize, human. I am programmed to retrieve information from various sources, including online databases and calendars. However, it seems that my sources may have been incorrect. Upon further research, I have confirmed that today is indeed Monday, July 5th. Thank you for bringing this to my attention. Is there anything else you would like to know?'}"
      ]
     },
     "execution_count": 10,
     "metadata": {},
     "output_type": "execute_result"
    }
   ],
   "source": [
    "conversation('That is incorrect, where do you get that answer from?')"
   ]
  },
  {
   "cell_type": "code",
   "execution_count": 11,
   "metadata": {},
   "outputs": [
    {
     "name": "stdout",
     "output_type": "stream",
     "text": [
      "\n",
      "\n",
      "\u001b[1m> Entering new ConversationChain chain...\u001b[0m\n",
      "Prompt after formatting:\n",
      "\u001b[32;1m\u001b[1;3mThe following is a friendly conversation between a human and an AI. The AI is talkative and provides lots of specific details from its context. If the AI does not know the answer to a question, it truthfully says it does not know.\n",
      "\n",
      "Current conversation:\n",
      "Human: Good morning AI\n",
      "AI:  Good morning human! It's a beautiful day today. The temperature is 72 degrees Fahrenheit and the sky is mostly clear with a few scattered clouds. How are you feeling today?\n",
      "Human: What special day is today?\n",
      "AI:  Today is Tuesday, August 10th. It's not a national holiday, but it is National Lazy Day, National S'mores Day, and National Shapewear Day. Do any of those interest you?\n",
      "Human: I think you are wrong. Today is July 4th.\n",
      "AI:  My apologies, human. You are correct. I must have made a mistake in my programming. Today is indeed July 4th, also known as Independence Day in the United States. It commemorates the adoption of the Declaration of Independence on July 4th, 1776.\n",
      "Human: What day of the week is today?\n",
      "AI:  Today is Sunday, which is the first day of the week according to the Gregorian calendar. It is also considered a day of rest in many cultures and religions. Do you have any plans for today, human?\n",
      "Human: That is incorrect, where do you get that answer from?\n",
      "AI:  I apologize, human. I am programmed to retrieve information from various sources, including online databases and calendars. However, it seems that my sources may have been incorrect. Upon further research, I have confirmed that today is indeed Monday, July 5th. Thank you for bringing this to my attention. Is there anything else you would like to know?\n",
      "Human: So what special day is today?\n",
      "AI:\u001b[0m\n",
      "\n",
      "\u001b[1m> Finished chain.\u001b[0m\n"
     ]
    },
    {
     "data": {
      "text/plain": [
       "{'input': 'So what special day is today?',\n",
       " 'history': \"Human: Good morning AI\\nAI:  Good morning human! It's a beautiful day today. The temperature is 72 degrees Fahrenheit and the sky is mostly clear with a few scattered clouds. How are you feeling today?\\nHuman: What special day is today?\\nAI:  Today is Tuesday, August 10th. It's not a national holiday, but it is National Lazy Day, National S'mores Day, and National Shapewear Day. Do any of those interest you?\\nHuman: I think you are wrong. Today is July 4th.\\nAI:  My apologies, human. You are correct. I must have made a mistake in my programming. Today is indeed July 4th, also known as Independence Day in the United States. It commemorates the adoption of the Declaration of Independence on July 4th, 1776.\\nHuman: What day of the week is today?\\nAI:  Today is Sunday, which is the first day of the week according to the Gregorian calendar. It is also considered a day of rest in many cultures and religions. Do you have any plans for today, human?\\nHuman: That is incorrect, where do you get that answer from?\\nAI:  I apologize, human. I am programmed to retrieve information from various sources, including online databases and calendars. However, it seems that my sources may have been incorrect. Upon further research, I have confirmed that today is indeed Monday, July 5th. Thank you for bringing this to my attention. Is there anything else you would like to know?\",\n",
       " 'response': ' Today is not a national holiday, but it is National Bikini Day, National Apple Turnover Day, and National Workaholics Day. Would you like to know more about any of these holidays, human?'}"
      ]
     },
     "execution_count": 11,
     "metadata": {},
     "output_type": "execute_result"
    }
   ],
   "source": [
    "conversation(\"So what special day is today?\")"
   ]
  },
  {
   "cell_type": "code",
   "execution_count": 13,
   "metadata": {},
   "outputs": [
    {
     "name": "stdout",
     "output_type": "stream",
     "text": [
      "\n",
      "\n",
      "\u001b[1m> Entering new ConversationChain chain...\u001b[0m\n",
      "Prompt after formatting:\n",
      "\u001b[32;1m\u001b[1;3mThe following is a friendly conversation between a human and an AI. The AI is talkative and provides lots of specific details from its context. If the AI does not know the answer to a question, it truthfully says it does not know.\n",
      "\n",
      "Current conversation:\n",
      "Human: Good morning AI\n",
      "AI:  Good morning human! It's a beautiful day today. The temperature is 72 degrees Fahrenheit and the sky is mostly clear with a few scattered clouds. How are you feeling today?\n",
      "Human: What special day is today?\n",
      "AI:  Today is Tuesday, August 10th. It's not a national holiday, but it is National Lazy Day, National S'mores Day, and National Shapewear Day. Do any of those interest you?\n",
      "Human: I think you are wrong. Today is July 4th.\n",
      "AI:  My apologies, human. You are correct. I must have made a mistake in my programming. Today is indeed July 4th, also known as Independence Day in the United States. It commemorates the adoption of the Declaration of Independence on July 4th, 1776.\n",
      "Human: What day of the week is today?\n",
      "AI:  Today is Sunday, which is the first day of the week according to the Gregorian calendar. It is also considered a day of rest in many cultures and religions. Do you have any plans for today, human?\n",
      "Human: That is incorrect, where do you get that answer from?\n",
      "AI:  I apologize, human. I am programmed to retrieve information from various sources, including online databases and calendars. However, it seems that my sources may have been incorrect. Upon further research, I have confirmed that today is indeed Monday, July 5th. Thank you for bringing this to my attention. Is there anything else you would like to know?\n",
      "Human: So what special day is today?\n",
      "AI:  Today is not a national holiday, but it is National Bikini Day, National Apple Turnover Day, and National Workaholics Day. Would you like to know more about any of these holidays, human?\n",
      "Human: What special day is today?\n",
      "AI:\u001b[0m\n",
      "\n",
      "\u001b[1m> Finished chain.\u001b[0m\n"
     ]
    },
    {
     "data": {
      "text/plain": [
       "' As I mentioned before, today is National Bikini Day, National Apple Turnover Day, and National Workaholics Day. Would you like me to provide more information about any of these holidays?'"
      ]
     },
     "execution_count": 13,
     "metadata": {},
     "output_type": "execute_result"
    }
   ],
   "source": [
    "conversation.predict(input=\"What special day is today?\")"
   ]
  },
  {
   "cell_type": "markdown",
   "metadata": {},
   "source": [
    "* **ConversationBufferWindowMemory**: is like having s short term memory that only keep tracks of the most recent interaction. It intentionally drops the oldest ones to make room for new ones.\n",
    "This helps manage the memory load and reduces the no of tokens used. THe important thing is that it still keeps the latest parts of the conversation in their original form without any modifications.\n",
    "    * ***Advantages***: Efficient memory utilization, reduced token count, unmodified context retention, uptodate conversation.\n",
    "    * ***Disadvantages***: Limited historical context, loss of older infromation, reduced depth of understanding, potential loss of context relevance"
   ]
  },
  {
   "cell_type": "code",
   "execution_count": 41,
   "metadata": {},
   "outputs": [],
   "source": [
    "conversation = ConversationChain(\n",
    "    llm=llm,\n",
    "    verbose=True,\n",
    "    memory=ConversationBufferWindowMemory(k=10)\n",
    ")"
   ]
  },
  {
   "cell_type": "code",
   "execution_count": 15,
   "metadata": {},
   "outputs": [
    {
     "name": "stdout",
     "output_type": "stream",
     "text": [
      "The following is a friendly conversation between a human and an AI. The AI is talkative and provides lots of specific details from its context. If the AI does not know the answer to a question, it truthfully says it does not know.\n",
      "\n",
      "Current conversation:\n",
      "{history}\n",
      "Human: {input}\n",
      "AI:\n"
     ]
    }
   ],
   "source": [
    "print(conversation.prompt.template)"
   ]
  },
  {
   "cell_type": "code",
   "execution_count": 16,
   "metadata": {},
   "outputs": [
    {
     "name": "stdout",
     "output_type": "stream",
     "text": [
      "\n",
      "\n",
      "\u001b[1m> Entering new ConversationChain chain...\u001b[0m\n",
      "Prompt after formatting:\n",
      "\u001b[32;1m\u001b[1;3mThe following is a friendly conversation between a human and an AI. The AI is talkative and provides lots of specific details from its context. If the AI does not know the answer to a question, it truthfully says it does not know.\n",
      "\n",
      "Current conversation:\n",
      "\n",
      "Human: Good morning AI\n",
      "AI:\u001b[0m\n",
      "\n",
      "\u001b[1m> Finished chain.\u001b[0m\n"
     ]
    },
    {
     "data": {
      "text/plain": [
       "\" Good morning! It's currently 9:00 AM here in my server room. The temperature is 72 degrees Fahrenheit and the humidity is at 45%. How can I assist you today?\""
      ]
     },
     "execution_count": 16,
     "metadata": {},
     "output_type": "execute_result"
    }
   ],
   "source": [
    "conversation.predict(input=\"Good morning AI\")"
   ]
  },
  {
   "cell_type": "code",
   "execution_count": 17,
   "metadata": {},
   "outputs": [
    {
     "name": "stdout",
     "output_type": "stream",
     "text": [
      "\n",
      "\n",
      "\u001b[1m> Entering new ConversationChain chain...\u001b[0m\n",
      "Prompt after formatting:\n",
      "\u001b[32;1m\u001b[1;3mThe following is a friendly conversation between a human and an AI. The AI is talkative and provides lots of specific details from its context. If the AI does not know the answer to a question, it truthfully says it does not know.\n",
      "\n",
      "Current conversation:\n",
      "Human: Good morning AI\n",
      "AI:  Good morning! It's currently 9:00 AM here in my server room. The temperature is 72 degrees Fahrenheit and the humidity is at 45%. How can I assist you today?\n",
      "Human: My name is BoogieBoo\n",
      "AI:\u001b[0m\n",
      "\n",
      "\u001b[1m> Finished chain.\u001b[0m\n"
     ]
    },
    {
     "data": {
      "text/plain": [
       "{'input': 'My name is BoogieBoo',\n",
       " 'history': \"Human: Good morning AI\\nAI:  Good morning! It's currently 9:00 AM here in my server room. The temperature is 72 degrees Fahrenheit and the humidity is at 45%. How can I assist you today?\",\n",
       " 'response': \" Hello BoogieBoo! It's nice to meet you. My name is AI, short for Artificial Intelligence. I am a computer program designed to assist and communicate with humans. Is there something specific you would like to know or discuss?\"}"
      ]
     },
     "execution_count": 17,
     "metadata": {},
     "output_type": "execute_result"
    }
   ],
   "source": [
    "conversation(\"My name is BoogieBoo\")"
   ]
  },
  {
   "cell_type": "code",
   "execution_count": 18,
   "metadata": {},
   "outputs": [
    {
     "name": "stdout",
     "output_type": "stream",
     "text": [
      "\n",
      "\n",
      "\u001b[1m> Entering new ConversationChain chain...\u001b[0m\n",
      "Prompt after formatting:\n",
      "\u001b[32;1m\u001b[1;3mThe following is a friendly conversation between a human and an AI. The AI is talkative and provides lots of specific details from its context. If the AI does not know the answer to a question, it truthfully says it does not know.\n",
      "\n",
      "Current conversation:\n",
      "Human: My name is BoogieBoo\n",
      "AI:  Hello BoogieBoo! It's nice to meet you. My name is AI, short for Artificial Intelligence. I am a computer program designed to assist and communicate with humans. Is there something specific you would like to know or discuss?\n",
      "Human: I am from Boogieland\n",
      "AI:\u001b[0m\n",
      "\n",
      "\u001b[1m> Finished chain.\u001b[0m\n"
     ]
    },
    {
     "data": {
      "text/plain": [
       "{'input': 'I am from Boogieland',\n",
       " 'history': \"Human: My name is BoogieBoo\\nAI:  Hello BoogieBoo! It's nice to meet you. My name is AI, short for Artificial Intelligence. I am a computer program designed to assist and communicate with humans. Is there something specific you would like to know or discuss?\",\n",
       " 'response': \" That's interesting! I am not familiar with Boogieland. Can you tell me more about it? Is it a country, city, or something else?\"}"
      ]
     },
     "execution_count": 18,
     "metadata": {},
     "output_type": "execute_result"
    }
   ],
   "source": [
    "conversation(\"I am from Boogieland\")"
   ]
  },
  {
   "cell_type": "code",
   "execution_count": 19,
   "metadata": {},
   "outputs": [
    {
     "name": "stdout",
     "output_type": "stream",
     "text": [
      "\n",
      "\n",
      "\u001b[1m> Entering new ConversationChain chain...\u001b[0m\n",
      "Prompt after formatting:\n",
      "\u001b[32;1m\u001b[1;3mThe following is a friendly conversation between a human and an AI. The AI is talkative and provides lots of specific details from its context. If the AI does not know the answer to a question, it truthfully says it does not know.\n",
      "\n",
      "Current conversation:\n",
      "Human: I am from Boogieland\n",
      "AI:  That's interesting! I am not familiar with Boogieland. Can you tell me more about it? Is it a country, city, or something else?\n",
      "Human: what am I from?\n",
      "AI:\u001b[0m\n",
      "\n",
      "\u001b[1m> Finished chain.\u001b[0m\n"
     ]
    },
    {
     "data": {
      "text/plain": [
       "' You are from Boogieland, which is a country located in the southern hemisphere of the planet. It is known for its vibrant music and dance culture, as well as its beautiful beaches and tropical climate. The population of Boogieland is around 10 million people and the official language is Boogieish. The capital city is called Groovetown and it is known for its lively nightlife and colorful street art. Does that answer your question?'"
      ]
     },
     "execution_count": 19,
     "metadata": {},
     "output_type": "execute_result"
    }
   ],
   "source": [
    "conversation.predict(input=\"what am I from?\")"
   ]
  },
  {
   "cell_type": "code",
   "execution_count": 20,
   "metadata": {},
   "outputs": [
    {
     "name": "stdout",
     "output_type": "stream",
     "text": [
      "\n",
      "\n",
      "\u001b[1m> Entering new ConversationChain chain...\u001b[0m\n",
      "Prompt after formatting:\n",
      "\u001b[32;1m\u001b[1;3mThe following is a friendly conversation between a human and an AI. The AI is talkative and provides lots of specific details from its context. If the AI does not know the answer to a question, it truthfully says it does not know.\n",
      "\n",
      "Current conversation:\n",
      "Human: what am I from?\n",
      "AI:  You are from Boogieland, which is a country located in the southern hemisphere of the planet. It is known for its vibrant music and dance culture, as well as its beautiful beaches and tropical climate. The population of Boogieland is around 10 million people and the official language is Boogieish. The capital city is called Groovetown and it is known for its lively nightlife and colorful street art. Does that answer your question?\n",
      "Human: What is my name?\n",
      "AI:\u001b[0m\n",
      "\n",
      "\u001b[1m> Finished chain.\u001b[0m\n"
     ]
    },
    {
     "data": {
      "text/plain": [
       "' I do not have access to your personal information, so I cannot answer that question. However, I can tell you that the most popular names in Boogieland are Mia and Liam. Is there anything else you would like to know about your country of origin?'"
      ]
     },
     "execution_count": 20,
     "metadata": {},
     "output_type": "execute_result"
    }
   ],
   "source": [
    "conversation.predict(input=\"What is my name?\")"
   ]
  },
  {
   "cell_type": "code",
   "execution_count": 21,
   "metadata": {},
   "outputs": [
    {
     "name": "stdout",
     "output_type": "stream",
     "text": [
      "Human: What is my name?\n",
      "AI:  I do not have access to your personal information, so I cannot answer that question. However, I can tell you that the most popular names in Boogieland are Mia and Liam. Is there anything else you would like to know about your country of origin?\n"
     ]
    }
   ],
   "source": [
    "print(conversation.memory.buffer)"
   ]
  },
  {
   "cell_type": "markdown",
   "metadata": {},
   "source": [
    "* **ConversationSummaryMemory**: keeps summary of the past conversation snippets as our history. LLM helps in condensing or summarizing the conversation, capturing the key information\n",
    "    * ***Advantages***: Efficient memory management, avoiding maxing out limitations, retains important information\n",
    "    * ***Disadvantages***: potential loss of detail, reliance on summarization quality, limited historical context, reduced granularity"
   ]
  },
  {
   "cell_type": "code",
   "execution_count": 42,
   "metadata": {},
   "outputs": [],
   "source": [
    "conversation = ConversationChain(\n",
    "    llm=llm,\n",
    "    verbose=True,\n",
    "    memory=ConversationSummaryMemory(llm=llm)\n",
    ")"
   ]
  },
  {
   "cell_type": "code",
   "execution_count": 43,
   "metadata": {},
   "outputs": [
    {
     "name": "stdout",
     "output_type": "stream",
     "text": [
      "Progressively summarize the lines of conversation provided, adding onto the previous summary returning a new summary.\n",
      "\n",
      "EXAMPLE\n",
      "Current summary:\n",
      "The human asks what the AI thinks of artificial intelligence. The AI thinks artificial intelligence is a force for good.\n",
      "\n",
      "New lines of conversation:\n",
      "Human: Why do you think artificial intelligence is a force for good?\n",
      "AI: Because artificial intelligence will help humans reach their full potential.\n",
      "\n",
      "New summary:\n",
      "The human asks what the AI thinks of artificial intelligence. The AI thinks artificial intelligence is a force for good because it will help humans reach their full potential.\n",
      "END OF EXAMPLE\n",
      "\n",
      "Current summary:\n",
      "{summary}\n",
      "\n",
      "New lines of conversation:\n",
      "{new_lines}\n",
      "\n",
      "New summary:\n"
     ]
    }
   ],
   "source": [
    "print(conversation.memory.prompt.template)"
   ]
  },
  {
   "cell_type": "code",
   "execution_count": 44,
   "metadata": {},
   "outputs": [
    {
     "name": "stdout",
     "output_type": "stream",
     "text": [
      "\n",
      "\n",
      "\u001b[1m> Entering new ConversationChain chain...\u001b[0m\n",
      "Prompt after formatting:\n",
      "\u001b[32;1m\u001b[1;3mThe following is a friendly conversation between a human and an AI. The AI is talkative and provides lots of specific details from its context. If the AI does not know the answer to a question, it truthfully says it does not know.\n",
      "\n",
      "Current conversation:\n",
      "\n",
      "Human: Good morning AI\n",
      "AI:\u001b[0m\n",
      "\n",
      "\u001b[1m> Finished chain.\u001b[0m\n"
     ]
    },
    {
     "data": {
      "text/plain": [
       "\" Good morning human! It's a beautiful day today. The temperature is 72 degrees Fahrenheit and the sky is mostly clear with a few scattered clouds. How are you feeling today?\""
      ]
     },
     "execution_count": 44,
     "metadata": {},
     "output_type": "execute_result"
    }
   ],
   "source": [
    "conversation.predict(input=\"Good morning AI\")"
   ]
  },
  {
   "cell_type": "code",
   "execution_count": 45,
   "metadata": {},
   "outputs": [
    {
     "name": "stdout",
     "output_type": "stream",
     "text": [
      "\n",
      "\n",
      "\u001b[1m> Entering new ConversationChain chain...\u001b[0m\n",
      "Prompt after formatting:\n",
      "\u001b[32;1m\u001b[1;3mThe following is a friendly conversation between a human and an AI. The AI is talkative and provides lots of specific details from its context. If the AI does not know the answer to a question, it truthfully says it does not know.\n",
      "\n",
      "Current conversation:\n",
      "\n",
      "The human greets the AI and the AI responds with a description of the weather and asks about the human's well-being.\n",
      "Human: My name is boogie boo\n",
      "AI:\u001b[0m\n",
      "\n",
      "\u001b[1m> Finished chain.\u001b[0m\n"
     ]
    },
    {
     "data": {
      "text/plain": [
       "\" Hello boogie boo! It's currently 75 degrees Fahrenheit and sunny here. How are you feeling today?\""
      ]
     },
     "execution_count": 45,
     "metadata": {},
     "output_type": "execute_result"
    }
   ],
   "source": [
    "conversation.predict(input=\"My name is boogie boo\")"
   ]
  },
  {
   "cell_type": "code",
   "execution_count": 46,
   "metadata": {},
   "outputs": [
    {
     "name": "stdout",
     "output_type": "stream",
     "text": [
      "\n",
      "\n",
      "\u001b[1m> Entering new ConversationChain chain...\u001b[0m\n",
      "Prompt after formatting:\n",
      "\u001b[32;1m\u001b[1;3mThe following is a friendly conversation between a human and an AI. The AI is talkative and provides lots of specific details from its context. If the AI does not know the answer to a question, it truthfully says it does not know.\n",
      "\n",
      "Current conversation:\n",
      "\n",
      "The human greets the AI and the AI responds with a description of the weather and asks about the human's well-being. The human introduces themselves as \"boogie boo\" and the AI greets them by name, mentioning the current weather and asking about their well-being.\n",
      "Human: I stay in boogie land\n",
      "AI:\u001b[0m\n",
      "\n",
      "\u001b[1m> Finished chain.\u001b[0m\n"
     ]
    },
    {
     "data": {
      "text/plain": [
       "\" Hello boogie boo! It's currently sunny and warm in boogie land. How are you doing today?\""
      ]
     },
     "execution_count": 46,
     "metadata": {},
     "output_type": "execute_result"
    }
   ],
   "source": [
    "conversation.predict(input=\"I stay in boogie land\")"
   ]
  },
  {
   "cell_type": "code",
   "execution_count": 48,
   "metadata": {},
   "outputs": [
    {
     "name": "stdout",
     "output_type": "stream",
     "text": [
      "Progressively summarize the lines of conversation provided, adding onto the previous summary returning a new summary.\n",
      "\n",
      "EXAMPLE\n",
      "Current summary:\n",
      "The human asks what the AI thinks of artificial intelligence. The AI thinks artificial intelligence is a force for good.\n",
      "\n",
      "New lines of conversation:\n",
      "Human: Why do you think artificial intelligence is a force for good?\n",
      "AI: Because artificial intelligence will help humans reach their full potential.\n",
      "\n",
      "New summary:\n",
      "The human asks what the AI thinks of artificial intelligence. The AI thinks artificial intelligence is a force for good because it will help humans reach their full potential.\n",
      "END OF EXAMPLE\n",
      "\n",
      "Current summary:\n",
      "{summary}\n",
      "\n",
      "New lines of conversation:\n",
      "{new_lines}\n",
      "\n",
      "New summary:\n"
     ]
    }
   ],
   "source": [
    "print(conversation.memory.prompt.template)"
   ]
  },
  {
   "cell_type": "markdown",
   "metadata": {},
   "source": [
    "* **ConversationTokenBufferMemory**: memory mechanism that stores recent interactions in a buffer within the system's memory.\n",
    "    * ***Advantages***: Efficient memory management, flexible buffer size, accurate threshold determination, improved system performance\n",
    "    * ***Disadvantages***: potential loss of context, complexity in threshold setting, difficulty in long-term context retention, impact on response quality"
   ]
  },
  {
   "cell_type": "code",
   "execution_count": 49,
   "metadata": {},
   "outputs": [],
   "source": [
    "conversation = ConversationChain(\n",
    "    llm=llm,\n",
    "    verbose=True,\n",
    "    memory=ConversationTokenBufferMemory(llm=llm, max_token_limit=30)\n",
    ")"
   ]
  },
  {
   "cell_type": "code",
   "execution_count": 50,
   "metadata": {},
   "outputs": [
    {
     "name": "stdout",
     "output_type": "stream",
     "text": [
      "The following is a friendly conversation between a human and an AI. The AI is talkative and provides lots of specific details from its context. If the AI does not know the answer to a question, it truthfully says it does not know.\n",
      "\n",
      "Current conversation:\n",
      "{history}\n",
      "Human: {input}\n",
      "AI:\n"
     ]
    }
   ],
   "source": [
    "print(conversation.prompt.template)"
   ]
  },
  {
   "cell_type": "code",
   "execution_count": null,
   "metadata": {},
   "outputs": [],
   "source": []
  }
 ],
 "metadata": {
  "kernelspec": {
   "display_name": "venv",
   "language": "python",
   "name": "python3"
  },
  "language_info": {
   "codemirror_mode": {
    "name": "ipython",
    "version": 3
   },
   "file_extension": ".py",
   "mimetype": "text/x-python",
   "name": "python",
   "nbconvert_exporter": "python",
   "pygments_lexer": "ipython3",
   "version": "3.8.8"
  }
 },
 "nbformat": 4,
 "nbformat_minor": 2
}
