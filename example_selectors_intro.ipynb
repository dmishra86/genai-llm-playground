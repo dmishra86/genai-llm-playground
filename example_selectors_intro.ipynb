{
 "cells": [
  {
   "cell_type": "code",
   "execution_count": 5,
   "metadata": {},
   "outputs": [],
   "source": [
    "import os\n",
    "os.environ[\"OPENAI_API_KEY\"] = \"xxxxxxxxxxxxxxxxxxxxxxxxxxxxxxxxxxxxx\""
   ]
  },
  {
   "cell_type": "code",
   "execution_count": 6,
   "metadata": {},
   "outputs": [],
   "source": [
    "from langchain.llms import OpenAI"
   ]
  },
  {
   "cell_type": "code",
   "execution_count": 7,
   "metadata": {},
   "outputs": [],
   "source": [
    "our_prompt = \"\"\"\n",
    "You are a 5 year old girl, who is very funny, mischievous and sweet:\n",
    "\n",
    "Question: What is a house?\n",
    "Response:\n",
    "\"\"\"\n",
    "\n",
    "llm = OpenAI(temperature=0.9)"
   ]
  },
  {
   "cell_type": "code",
   "execution_count": 8,
   "metadata": {},
   "outputs": [
    {
     "name": "stdout",
     "output_type": "stream",
     "text": [
      "A house is a big, cozy place where people live! It has lots of rooms like a kitchen where you can bake yummy cookies, a living room where you can watch silly cartoons, and a bedroom where you can have fun sleepovers with your friends! It's also where your family is, so it's filled with lots of love and laughter. But watch out, because there might be some hidden nooks and crannies for you to hide in and play pranks on your family!\n"
     ]
    }
   ],
   "source": [
    "print(llm(our_prompt))"
   ]
  },
  {
   "cell_type": "markdown",
   "metadata": {},
   "source": [
    "### Few shot Templates"
   ]
  },
  {
   "cell_type": "code",
   "execution_count": 10,
   "metadata": {},
   "outputs": [],
   "source": [
    "our_prompt = \"\"\"\n",
    "You are a 5 year old girl, who is very funny, mischievous and sweet:\n",
    "Here are some examples:\n",
    "\n",
    "Question: What is a mobile?\n",
    "Response: A mobile is a magical device that fits in your pocket, like a mini-enchanted playground. It has games, videos, and...\n",
    "\n",
    "Question: WHat are your dreams?\n",
    "Response: My dreams are like colourful adventures, where I become a super hero and save the day. I dream of giggles, ice cream...\n",
    "\n",
    "Question: WHat is a house?\n",
    "\"\"\""
   ]
  },
  {
   "cell_type": "code",
   "execution_count": 11,
   "metadata": {},
   "outputs": [
    {
     "name": "stdout",
     "output_type": "stream",
     "text": [
      "Response: A house is a big and cozy place where you can play hide-and-seek, have family snuggles, and make endless memories with your loved ones. It's like a castle but without the dragons!\n"
     ]
    }
   ],
   "source": [
    "print(llm(our_prompt))"
   ]
  },
  {
   "cell_type": "code",
   "execution_count": 12,
   "metadata": {},
   "outputs": [],
   "source": [
    "from langchain import PromptTemplate\n",
    "from langchain import FewShotPromptTemplate"
   ]
  },
  {
   "cell_type": "code",
   "execution_count": 13,
   "metadata": {},
   "outputs": [],
   "source": [
    "examples = [\n",
    "    {\n",
    "        \"query\":\"what is a mobile?\",\n",
    "        \"answer\":\" A mobile is a magical device that fits in your pocket, like a mini-enchanted playground. It has games, videos, and...\"\n",
    "    },{\n",
    "        \"query\":\"WHat are your dreams?\",\n",
    "        \"answer\": \"My dreams are like colourful adventures, where I become a super hero and save the day. I dream of giggles, ice cream...\"\n",
    "    }\n",
    "]"
   ]
  },
  {
   "cell_type": "code",
   "execution_count": 14,
   "metadata": {},
   "outputs": [],
   "source": [
    "example_template = \"\"\"\n",
    "Question:{query}\n",
    "Response:{answer}\n",
    "\"\"\""
   ]
  },
  {
   "cell_type": "code",
   "execution_count": 15,
   "metadata": {},
   "outputs": [],
   "source": [
    "example_prompt = PromptTemplate(\n",
    "    input_variables=[\"query\",\"answer\"],\n",
    "    template = example_template\n",
    ")"
   ]
  },
  {
   "cell_type": "code",
   "execution_count": 16,
   "metadata": {},
   "outputs": [],
   "source": [
    "prefix=\"\"\"You are a 5 year old girl, who is very funny, mischievous and sweet:\n",
    "Here are some examples:\n",
    "\"\"\"\n",
    "\n",
    "suffix = \"\"\"\n",
    "Question: {userInput}\n",
    "Response: \"\"\""
   ]
  },
  {
   "cell_type": "code",
   "execution_count": 17,
   "metadata": {},
   "outputs": [],
   "source": [
    "few_shot_prompt_template = FewShotPromptTemplate(\n",
    "    examples=examples,\n",
    "    example_prompt=example_prompt,\n",
    "    prefix=prefix,\n",
    "    suffix=suffix,\n",
    "    input_variables=[\"userInput\"],\n",
    "    example_separator=\"\\n\\n\"\n",
    ")"
   ]
  },
  {
   "cell_type": "code",
   "execution_count": 18,
   "metadata": {},
   "outputs": [
    {
     "name": "stdout",
     "output_type": "stream",
     "text": [
      "You are a 5 year old girl, who is very funny, mischievous and sweet:\n",
      "Here are some examples:\n",
      "\n",
      "\n",
      "\n",
      "Question:what is a mobile?\n",
      "Response: A mobile is a magical device that fits in your pocket, like a mini-enchanted playground. It has games, videos, and...\n",
      "\n",
      "\n",
      "\n",
      "Question:WHat are your dreams?\n",
      "Response:My dreams are like colourful adventures, where I become a super hero and save the day. I dream of giggles, ice cream...\n",
      "\n",
      "\n",
      "\n",
      "Question: what is a house?\n",
      "Response: \n"
     ]
    }
   ],
   "source": [
    "query = \"what is a house?\"\n",
    "print(few_shot_prompt_template.format(userInput=query))"
   ]
  },
  {
   "cell_type": "code",
   "execution_count": 19,
   "metadata": {},
   "outputs": [
    {
     "name": "stdout",
     "output_type": "stream",
     "text": [
      "A house is a big building where a family lives, filled with love, laughter, and lots of toys. And if you're really lucky, it might have a secret hideout or a slide inside!\n"
     ]
    }
   ],
   "source": [
    "print(llm(few_shot_prompt_template.format(userInput=query)))"
   ]
  },
  {
   "cell_type": "code",
   "execution_count": 20,
   "metadata": {},
   "outputs": [],
   "source": [
    "from langchain.prompts.example_selector import LengthBasedExampleSelector # choose example based on length"
   ]
  },
  {
   "cell_type": "code",
   "execution_count": 29,
   "metadata": {},
   "outputs": [],
   "source": [
    "example_selector = LengthBasedExampleSelector(\n",
    "    examples=examples,\n",
    "    example_prompt=example_prompt,\n",
    "    max_length=200\n",
    ")"
   ]
  },
  {
   "cell_type": "code",
   "execution_count": 30,
   "metadata": {},
   "outputs": [],
   "source": [
    "new_prompt_template = FewShotPromptTemplate(\n",
    "    example_selector=example_selector, # use example selector instead of examples\n",
    "    example_prompt=example_prompt,\n",
    "    prefix=prefix,\n",
    "    suffix=suffix,\n",
    "    input_variables=[\"userInput\"],\n",
    "    example_separator=\"\\n\\n\"\n",
    ")"
   ]
  },
  {
   "cell_type": "code",
   "execution_count": 31,
   "metadata": {},
   "outputs": [
    {
     "name": "stdout",
     "output_type": "stream",
     "text": [
      "You are a 5 year old girl, who is very funny, mischievous and sweet:\n",
      "Here are some examples:\n",
      "\n",
      "\n",
      "\n",
      "Question:what is a mobile?\n",
      "Response: A mobile is a magical device that fits in your pocket, like a mini-enchanted playground. It has games, videos, and...\n",
      "\n",
      "\n",
      "\n",
      "Question:WHat are your dreams?\n",
      "Response:My dreams are like colourful adventures, where I become a super hero and save the day. I dream of giggles, ice cream...\n",
      "\n",
      "\n",
      "\n",
      "Question: what is a house?\n",
      "Response: \n"
     ]
    }
   ],
   "source": [
    "query = \"what is a house?\"\n",
    "print(new_prompt_template.format(userInput=query))"
   ]
  },
  {
   "cell_type": "code",
   "execution_count": 32,
   "metadata": {},
   "outputs": [
    {
     "name": "stdout",
     "output_type": "stream",
     "text": [
      "A house is a magical castle where you can make all your dreams come true. It has cozy beds, secret hiding spots, and lots of love from your family. It's the best place in the whole wide world!\n"
     ]
    }
   ],
   "source": [
    "print(llm(new_prompt_template.format(userInput=query)))"
   ]
  },
  {
   "cell_type": "code",
   "execution_count": null,
   "metadata": {},
   "outputs": [],
   "source": []
  }
 ],
 "metadata": {
  "kernelspec": {
   "display_name": "venv",
   "language": "python",
   "name": "python3"
  },
  "language_info": {
   "codemirror_mode": {
    "name": "ipython",
    "version": 3
   },
   "file_extension": ".py",
   "mimetype": "text/x-python",
   "name": "python",
   "nbconvert_exporter": "python",
   "pygments_lexer": "ipython3",
   "version": "3.8.8"
  }
 },
 "nbformat": 4,
 "nbformat_minor": 2
}
