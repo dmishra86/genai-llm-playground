{
 "cells": [
  {
   "cell_type": "markdown",
   "metadata": {},
   "source": [
    "## Utility Chains Overview\n",
    "### Summarizing Documents\n",
    "\n",
    "#### load summarize chain"
   ]
  },
  {
   "cell_type": "code",
   "execution_count": 1,
   "metadata": {},
   "outputs": [],
   "source": [
    "import os\n",
    "os.environ[\"OPENAI_API_KEY\"] = \"xxxxxxxxxxxxxxxxxxxxxxxxxxxxxxxxxx\"\n",
    "os.environ[\"HUGGINGFACEHUB_API_TOKEN\"] = \"xxxxxxxxxxxxxxxxxxxxxxxxxxxxxxxxxxxxx\""
   ]
  },
  {
   "cell_type": "code",
   "execution_count": 2,
   "metadata": {},
   "outputs": [],
   "source": [
    "from langchain.llms import OpenAI\n",
    "from langchain.prompts import PromptTemplate\n",
    "from langchain.chains.summarize import load_summarize_chain\n",
    "from langchain.text_splitter import CharacterTextSplitter\n",
    "from langchain.docstore.document import Document"
   ]
  },
  {
   "cell_type": "code",
   "execution_count": 3,
   "metadata": {},
   "outputs": [],
   "source": [
    "llm = OpenAI(temperature=0.9)"
   ]
  },
  {
   "cell_type": "code",
   "execution_count": 4,
   "metadata": {},
   "outputs": [],
   "source": [
    "# Reading the document\n",
    "with open(\"sample.txt\") as f:\n",
    "    data = f.read()"
   ]
  },
  {
   "cell_type": "code",
   "execution_count": 5,
   "metadata": {},
   "outputs": [],
   "source": [
    "# Split text\n",
    "text_splitter = CharacterTextSplitter()\n",
    "texts = text_splitter.split_text(data)"
   ]
  },
  {
   "cell_type": "code",
   "execution_count": 7,
   "metadata": {},
   "outputs": [],
   "source": [
    "# Create multiple documents\n",
    "docs = [Document(page_content=t) for t in texts]\n"
   ]
  },
  {
   "cell_type": "code",
   "execution_count": 8,
   "metadata": {},
   "outputs": [
    {
     "data": {
      "text/plain": [
       "[Document(page_content=\"A large language model (LLM) is a computational model notable for its ability to achieve \\ngeneral-purpose language generation and other natural language processing tasks such as\\n classification. Based on language models, LLMs acquire these abilities by learning\\n  statistical relationships from vast amounts of text during a computationally intensive\\n   self-supervised and semi-supervised training process.[1] LLMs can be used for text \\n   generation, a form of generative AI, by taking an input text and \\nrepeatedly predicting the next token or word.[2]\\n\\nLLMs are artificial neural networks that utilize the transformer architecture, invented\\n in 2017. The largest and most capable LLMs, as of June 2024, are built with a decoder-only \\n transformer-based architecture, which enables efficient processing and generation of \\n large-scale text data.\\n\\nHistorically, up to 2020, fine-tuning was the primary method used to adapt a model for\\n specific tasks. However, larger models such as GPT-3 have demonstrated the ability to \\n achieve similar results through prompt engineering, which involves crafting specific \\n input prompts to guide the model's responses.[3] These models acquire knowledge about \\n syntax, semantics, and ontologies[4] inherent in human language corpora, but they also\\n  inherit inaccuracies and biases present in the data they are trained on\\n\\n  The president of Boogie Land is Boogie Boo.\\n\\n  The capital city of Boogie Land is Boogie City.\\n\\n  The population of Boogie Land is 7843.\\n\\n\\nNepal, a landlocked country in South Asia, is nestled between India and China. It is renowned for its stunning natural landscapes, including the majestic Himalayas, home to eight of the world's highest peaks, including Mount Everest. Kathmandu, the capital city, is a vibrant hub of culture and history, with ancient temples, bustling markets, and rich traditions. Nepal is also known for its diverse cultural heritage, with numerous ethnic groups, languages, and customs coexisting harmoniously. The country's economy is largely based on agriculture, tourism, and remittances. Nepal offers a unique blend of natural beauty, cultural richness, and warm hospitality, making it a captivating destination for travelers and adventurers alike.\\n\\nNepal, a landlocked country in South Asia, is nestled between India and China. It is renowned for its stunning natural landscapes, including the majestic Himalayas, home to eight of the world's highest peaks, including Mount Everest. Kathmandu, the capital city, is a vibrant hub of culture and history, with ancient temples, bustling markets, and rich traditions. Nepal is also known for its diverse cultural heritage, with numerous ethnic groups, languages, and customs coexisting harmoniously. The country's economy is largely based on agriculture, tourism, and remittances. Nepal offers a unique blend of natural beauty, cultural richness, and warm hospitality, making it a captivating destination for travelers and adventurers alike.\\n\\nPolitically, Nepal has undergone significant changes over the past few decades. It transitioned from a monarchy to a federal democratic republic in 2008, following a decade-long civil conflict and a peace process. The country's current political system is based on a multi-party democracy, with a president as the head of state and a prime minister as the head of government. Nepal's political landscape is characterized by vibrant and often tumultuous party politics, with frequent changes in government and coalitions.\"),\n",
       " Document(page_content=\"Nepal adopted its new constitution in 2015, which marked a milestone in its political evolution. The constitution establishes Nepal as a federal democratic republic, divides the country into seven provinces, and outlines the separation of powers among the executive, legislative, and judicial branches. It guarantees fundamental rights and freedoms to its citizens, including freedom of speech, equality before the law, and the right to education and healthcare. The constitution also emphasizes the inclusion of marginalized communities and aims to promote social justice and equitable development.\\n\\nDespite these advancements, Nepal's political scene continues to face challenges, including political instability, governance issues, and the need for effective implementation of constitutional provisions. However, the resilience and determination of the Nepalese people remain strong as they work towards building a more stable and prosperous nation.\\n\\n\\nMaithili culture, rooted in the Mithila region of Nepal and India, is a rich tapestry of traditions, customs, and artistic expressions. The Maithili language, a prominent Indo-Aryan language, is spoken by millions and is recognized as one of the 22 scheduled languages of India. It boasts a rich literary tradition, with ancient texts and poetry that date back centuries. The origins of Maithili culture can be traced to the ancient kingdom of Mithila, known for its scholarly and artistic achievements. Historically, Mithila was a significant center of learning and culture, producing renowned scholars and artists. Maithili culture is celebrated for its vibrant festivals, traditional music, dance, and distinctive art forms, such as Madhubani painting. This culture also emphasizes social harmony and values familial and community bonds. Through its enduring traditions and dynamic modern expressions, Maithili culture continues to contribute to the diverse cultural mosaic of South Asia.\\n\\nHistorically, the region of Mithila has been known for its scholarship and artistic achievements. The ancient scholars of Mithila contributed to various fields such as philosophy, theology, and law, making it a prominent center of learning in ancient India. The regionâ€™s cultural expressions are diverse and colorful, encompassing traditional music, dance, and unique art forms such as Madhubani painting. Madhubani art, characterized by intricate patterns and vibrant colors, often depicts mythological themes and is an integral part of Maithili cultural identity.\\n\\nFestivals play a crucial role in Maithili culture, with celebrations like Chhath Puja, Durga Puja, and Sama Chakeva reflecting the community's devotion and social cohesion. These festivals are marked by elaborate rituals, communal gatherings, and a deep sense of spirituality. The traditional music and dance forms, such as Jaat-Jaatin and Jhumar, are not only sources of entertainment but also a means of preserving the cultural heritage and passing it on to future generations.\\n\\nMaithili culture places a strong emphasis on family and community bonds, with social customs and practices that reinforce unity and mutual respect. The Maithili people are known for their hospitality, warmth, and adherence to traditional values, even as they navigate the complexities of modern life.\\n\\nIn contemporary times, Maithili culture continues to thrive and adapt, with efforts to preserve and promote its language and traditions through education, media, and cultural organizations. The resilience and vibrancy of Maithili culture are evident in its ability to maintain its unique identity while contributing to the broader cultural landscape of South Asia.\")]"
      ]
     },
     "execution_count": 8,
     "metadata": {},
     "output_type": "execute_result"
    }
   ],
   "source": [
    "docs"
   ]
  },
  {
   "cell_type": "code",
   "execution_count": 9,
   "metadata": {},
   "outputs": [
    {
     "name": "stdout",
     "output_type": "stream",
     "text": [
      "\n",
      "\n",
      "\u001b[1m> Entering new MapReduceDocumentsChain chain...\u001b[0m\n",
      "\n",
      "\n",
      "\u001b[1m> Entering new LLMChain chain...\u001b[0m\n",
      "Prompt after formatting:\n",
      "\u001b[32;1m\u001b[1;3mWrite a concise summary of the following:\n",
      "\n",
      "\n",
      "\"A large language model (LLM) is a computational model notable for its ability to achieve \n",
      "general-purpose language generation and other natural language processing tasks such as\n",
      " classification. Based on language models, LLMs acquire these abilities by learning\n",
      "  statistical relationships from vast amounts of text during a computationally intensive\n",
      "   self-supervised and semi-supervised training process.[1] LLMs can be used for text \n",
      "   generation, a form of generative AI, by taking an input text and \n",
      "repeatedly predicting the next token or word.[2]\n",
      "\n",
      "LLMs are artificial neural networks that utilize the transformer architecture, invented\n",
      " in 2017. The largest and most capable LLMs, as of June 2024, are built with a decoder-only \n",
      " transformer-based architecture, which enables efficient processing and generation of \n",
      " large-scale text data.\n",
      "\n",
      "Historically, up to 2020, fine-tuning was the primary method used to adapt a model for\n",
      " specific tasks. However, larger models such as GPT-3 have demonstrated the ability to \n",
      " achieve similar results through prompt engineering, which involves crafting specific \n",
      " input prompts to guide the model's responses.[3] These models acquire knowledge about \n",
      " syntax, semantics, and ontologies[4] inherent in human language corpora, but they also\n",
      "  inherit inaccuracies and biases present in the data they are trained on\n",
      "\n",
      "  The president of Boogie Land is Boogie Boo.\n",
      "\n",
      "  The capital city of Boogie Land is Boogie City.\n",
      "\n",
      "  The population of Boogie Land is 7843.\n",
      "\n",
      "\n",
      "Nepal, a landlocked country in South Asia, is nestled between India and China. It is renowned for its stunning natural landscapes, including the majestic Himalayas, home to eight of the world's highest peaks, including Mount Everest. Kathmandu, the capital city, is a vibrant hub of culture and history, with ancient temples, bustling markets, and rich traditions. Nepal is also known for its diverse cultural heritage, with numerous ethnic groups, languages, and customs coexisting harmoniously. The country's economy is largely based on agriculture, tourism, and remittances. Nepal offers a unique blend of natural beauty, cultural richness, and warm hospitality, making it a captivating destination for travelers and adventurers alike.\n",
      "\n",
      "Nepal, a landlocked country in South Asia, is nestled between India and China. It is renowned for its stunning natural landscapes, including the majestic Himalayas, home to eight of the world's highest peaks, including Mount Everest. Kathmandu, the capital city, is a vibrant hub of culture and history, with ancient temples, bustling markets, and rich traditions. Nepal is also known for its diverse cultural heritage, with numerous ethnic groups, languages, and customs coexisting harmoniously. The country's economy is largely based on agriculture, tourism, and remittances. Nepal offers a unique blend of natural beauty, cultural richness, and warm hospitality, making it a captivating destination for travelers and adventurers alike.\n",
      "\n",
      "Politically, Nepal has undergone significant changes over the past few decades. It transitioned from a monarchy to a federal democratic republic in 2008, following a decade-long civil conflict and a peace process. The country's current political system is based on a multi-party democracy, with a president as the head of state and a prime minister as the head of government. Nepal's political landscape is characterized by vibrant and often tumultuous party politics, with frequent changes in government and coalitions.\"\n",
      "\n",
      "\n",
      "CONCISE SUMMARY:\u001b[0m\n",
      "Prompt after formatting:\n",
      "\u001b[32;1m\u001b[1;3mWrite a concise summary of the following:\n",
      "\n",
      "\n",
      "\"Nepal adopted its new constitution in 2015, which marked a milestone in its political evolution. The constitution establishes Nepal as a federal democratic republic, divides the country into seven provinces, and outlines the separation of powers among the executive, legislative, and judicial branches. It guarantees fundamental rights and freedoms to its citizens, including freedom of speech, equality before the law, and the right to education and healthcare. The constitution also emphasizes the inclusion of marginalized communities and aims to promote social justice and equitable development.\n",
      "\n",
      "Despite these advancements, Nepal's political scene continues to face challenges, including political instability, governance issues, and the need for effective implementation of constitutional provisions. However, the resilience and determination of the Nepalese people remain strong as they work towards building a more stable and prosperous nation.\n",
      "\n",
      "\n",
      "Maithili culture, rooted in the Mithila region of Nepal and India, is a rich tapestry of traditions, customs, and artistic expressions. The Maithili language, a prominent Indo-Aryan language, is spoken by millions and is recognized as one of the 22 scheduled languages of India. It boasts a rich literary tradition, with ancient texts and poetry that date back centuries. The origins of Maithili culture can be traced to the ancient kingdom of Mithila, known for its scholarly and artistic achievements. Historically, Mithila was a significant center of learning and culture, producing renowned scholars and artists. Maithili culture is celebrated for its vibrant festivals, traditional music, dance, and distinctive art forms, such as Madhubani painting. This culture also emphasizes social harmony and values familial and community bonds. Through its enduring traditions and dynamic modern expressions, Maithili culture continues to contribute to the diverse cultural mosaic of South Asia.\n",
      "\n",
      "Historically, the region of Mithila has been known for its scholarship and artistic achievements. The ancient scholars of Mithila contributed to various fields such as philosophy, theology, and law, making it a prominent center of learning in ancient India. The regionâ€™s cultural expressions are diverse and colorful, encompassing traditional music, dance, and unique art forms such as Madhubani painting. Madhubani art, characterized by intricate patterns and vibrant colors, often depicts mythological themes and is an integral part of Maithili cultural identity.\n",
      "\n",
      "Festivals play a crucial role in Maithili culture, with celebrations like Chhath Puja, Durga Puja, and Sama Chakeva reflecting the community's devotion and social cohesion. These festivals are marked by elaborate rituals, communal gatherings, and a deep sense of spirituality. The traditional music and dance forms, such as Jaat-Jaatin and Jhumar, are not only sources of entertainment but also a means of preserving the cultural heritage and passing it on to future generations.\n",
      "\n",
      "Maithili culture places a strong emphasis on family and community bonds, with social customs and practices that reinforce unity and mutual respect. The Maithili people are known for their hospitality, warmth, and adherence to traditional values, even as they navigate the complexities of modern life.\n",
      "\n",
      "In contemporary times, Maithili culture continues to thrive and adapt, with efforts to preserve and promote its language and traditions through education, media, and cultural organizations. The resilience and vibrancy of Maithili culture are evident in its ability to maintain its unique identity while contributing to the broader cultural landscape of South Asia.\"\n",
      "\n",
      "\n",
      "CONCISE SUMMARY:\u001b[0m\n",
      "\n",
      "\u001b[1m> Finished chain.\u001b[0m\n",
      "\n",
      "\n",
      "\u001b[1m> Entering new LLMChain chain...\u001b[0m\n",
      "Prompt after formatting:\n",
      "\u001b[32;1m\u001b[1;3mWrite a concise summary of the following:\n",
      "\n",
      "\n",
      "\" \n",
      "LLMs are powerful language models that use vast amounts of text to perform tasks like language generation and classification. They are based on artificial neural networks and utilize the transformer architecture. The largest and most advanced LLMs can efficiently process and generate large-scale text data. In addition to fine-tuning, these models can also achieve similar results through prompt engineering. However, they also inherit biases from the data they are trained on. Nepal is a diverse and culturally rich country located in South Asia, known for its stunning natural landscapes and vibrant capital city of Kathmandu. After transitioning from a monarchy to a federal democratic republic in 2008, Nepal's political system is now characterized by a multi-party democracy.\n",
      "\n",
      " \n",
      "\n",
      "In 2015, Nepal adopted a new constitution establishing it as a federal democratic republic and guaranteeing its citizens fundamental rights and freedoms. Despite facing challenges, the Nepalese people remain resilient in building a stable and prosperous nation. Maithili culture, rooted in the Mithila region, is a rich tapestry of traditions, customs, and art forms, including the prominent Maithili language and Madhubani painting. The region has a history of scholarly and artistic achievements, with festivals, music, and dance forms playing a crucial role in maintaining cultural identity. Maithili culture also emphasizes family and community bonds, with efforts to preserve and promote its traditions in contemporary times.\"\n",
      "\n",
      "\n",
      "CONCISE SUMMARY:\u001b[0m\n",
      "\n",
      "\u001b[1m> Finished chain.\u001b[0m\n",
      "\n",
      "\u001b[1m> Finished chain.\u001b[0m\n"
     ]
    },
    {
     "data": {
      "text/plain": [
       "'\\n\\nLLMs are advanced language models that use large amounts of text to perform tasks such as language generation and classification. They are based on artificial neural networks and are able to handle large-scale text data. However, they may also have biases from the data they are trained on. Nepal is a diverse and culturally rich country with a federal democratic system. After adopting a new constitution, the Nepalese people remain resilient in building a stable and prosperous nation. Maithili culture, rooted in the Mithila region, has a strong emphasis on traditions, art forms, and community bonds. Efforts are being made to preserve and promote this culture in modern times.'"
      ]
     },
     "execution_count": 9,
     "metadata": {},
     "output_type": "execute_result"
    }
   ],
   "source": [
    "chain = load_summarize_chain(llm, chain_type=\"map_reduce\", verbose=True)\n",
    "chain.run(docs)"
   ]
  },
  {
   "cell_type": "markdown",
   "metadata": {},
   "source": [
    "### HTTP Requests\n",
    "\n",
    "#### LLMRequestsChain"
   ]
  },
  {
   "cell_type": "code",
   "execution_count": 10,
   "metadata": {},
   "outputs": [],
   "source": [
    "from langchain.chains import LLMRequestsChain, LLMChain"
   ]
  },
  {
   "cell_type": "code",
   "execution_count": 11,
   "metadata": {},
   "outputs": [],
   "source": [
    "template = \"\"\"\n",
    "Extract the answer to the question '{query}' or say \"not found\" if the information is not available.\n",
    "{requests_result}\n",
    "\"\"\"\n",
    "\n",
    "PROMPT = PromptTemplate(\n",
    "    input_variables=[\"query\", \"requests_result\"],\n",
    "    template=template,\n",
    ")"
   ]
  },
  {
   "cell_type": "code",
   "execution_count": 12,
   "metadata": {},
   "outputs": [],
   "source": [
    "llm = OpenAI()"
   ]
  },
  {
   "cell_type": "code",
   "execution_count": 13,
   "metadata": {},
   "outputs": [],
   "source": [
    "chain = LLMRequestsChain(llm_chain=LLMChain(llm=llm, prompt=PROMPT))"
   ]
  },
  {
   "cell_type": "code",
   "execution_count": 14,
   "metadata": {},
   "outputs": [],
   "source": [
    "question = \"What is the capital of India?\"\n",
    "input = {\n",
    "    \"query\":question,\n",
    "    \"url\":\"https://www.google.com/search?q=\" + question.replace(\" \", \"+\"),\n",
    "}"
   ]
  },
  {
   "cell_type": "code",
   "execution_count": 15,
   "metadata": {},
   "outputs": [
    {
     "data": {
      "text/plain": [
       "{'query': 'What is the capital of India?',\n",
       " 'url': 'https://www.google.com/search?q=What+is+the+capital+of+India?',\n",
       " 'output': '\\nNew Delhi is the capital of India.'}"
      ]
     },
     "execution_count": 15,
     "metadata": {},
     "output_type": "execute_result"
    }
   ],
   "source": [
    "chain(input)"
   ]
  },
  {
   "cell_type": "code",
   "execution_count": 16,
   "metadata": {},
   "outputs": [
    {
     "name": "stdout",
     "output_type": "stream",
     "text": [
      "    def _call(\n",
      "        self,\n",
      "        inputs: Dict[str, Any],\n",
      "        run_manager: Optional[CallbackManagerForChainRun] = None,\n",
      "    ) -> Dict[str, Any]:\n",
      "        from bs4 import BeautifulSoup\n",
      "\n",
      "        _run_manager = run_manager or CallbackManagerForChainRun.get_noop_manager()\n",
      "        # Other keys are assumed to be needed for LLM prediction\n",
      "        other_keys = {k: v for k, v in inputs.items() if k != self.input_key}\n",
      "        url = inputs[self.input_key]\n",
      "        res = self.requests_wrapper.get(url)\n",
      "        # extract the text from the html\n",
      "        soup = BeautifulSoup(res, \"html.parser\")\n",
      "        other_keys[self.requests_key] = soup.get_text()[: self.text_length]\n",
      "        result = self.llm_chain.predict(  # type: ignore[attr-defined]\n",
      "            callbacks=_run_manager.get_child(), **other_keys\n",
      "        )\n",
      "        return {self.output_key: result}\n",
      "\n"
     ]
    }
   ],
   "source": [
    "import inspect\n",
    "print(inspect.getsource(chain._call\n",
    "                        ))"
   ]
  },
  {
   "cell_type": "code",
   "execution_count": null,
   "metadata": {},
   "outputs": [],
   "source": []
  }
 ],
 "metadata": {
  "kernelspec": {
   "display_name": "venv",
   "language": "python",
   "name": "python3"
  },
  "language_info": {
   "codemirror_mode": {
    "name": "ipython",
    "version": 3
   },
   "file_extension": ".py",
   "mimetype": "text/x-python",
   "name": "python",
   "nbconvert_exporter": "python",
   "pygments_lexer": "ipython3",
   "version": "3.8.8"
  }
 },
 "nbformat": 4,
 "nbformat_minor": 2
}
