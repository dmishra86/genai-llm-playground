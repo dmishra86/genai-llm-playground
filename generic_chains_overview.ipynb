{
 "cells": [
  {
   "cell_type": "markdown",
   "metadata": {},
   "source": [
    "### SImple Chain\n",
    "\n",
    "Most elementary type of chain, only one LLM "
   ]
  },
  {
   "cell_type": "code",
   "execution_count": 10,
   "metadata": {},
   "outputs": [],
   "source": [
    "import os\n",
    "os.environ[\"OPENAI_API_KEY\"] = \"xxxxxxxxxxxxxxxxxxxxxxxxxxxxxxxxxxxxxxxxxxx\"\n",
    "os.environ[\"HUGGINGFACEHUB_API_TOKEN\"] = \"xxxxxxxxxxxxxxxxxxxxxxxxxxxxxxxxx\""
   ]
  },
  {
   "cell_type": "code",
   "execution_count": 2,
   "metadata": {},
   "outputs": [],
   "source": [
    "from langchain.llms import OpenAI\n",
    "from langchain.prompts import PromptTemplate\n",
    "from langchain.chains import LLMChain"
   ]
  },
  {
   "cell_type": "code",
   "execution_count": 3,
   "metadata": {},
   "outputs": [],
   "source": [
    "llm = OpenAI()"
   ]
  },
  {
   "cell_type": "code",
   "execution_count": 4,
   "metadata": {},
   "outputs": [],
   "source": [
    "prompt = PromptTemplate(\n",
    "    input_variables=[\"place\"],\n",
    "    template=\"Best places to visit in {place}\"\n",
    ")"
   ]
  },
  {
   "cell_type": "code",
   "execution_count": 5,
   "metadata": {},
   "outputs": [
    {
     "name": "stdout",
     "output_type": "stream",
     "text": [
      "\n",
      "\n",
      "India is a vast and diverse country with a rich history, vibrant culture, and stunning natural beauty. It can be overwhelming to decide where to visit, but here are some of the best places to visit in India:\n",
      "\n",
      "1. Taj Mahal, Agra: This iconic white marble mausoleum is a symbol of love and a must-visit for anyone traveling to India.\n",
      "\n",
      "2. Jaipur, Rajasthan: Known as the \"Pink City,\" Jaipur is a treasure trove of historical sites, colorful bazaars, and delicious Rajasthani cuisine.\n",
      "\n",
      "3. Varanasi, Uttar Pradesh: Considered one of the oldest continuously inhabited cities in the world, Varanasi is a sacred city for Hindus and is known for its ghats (steps leading to the river) and religious rituals.\n",
      "\n",
      "4. Goa: This coastal state is famous for its beautiful beaches, Portuguese-influenced architecture, and vibrant nightlife.\n",
      "\n",
      "5. Kerala: Known as \"God's Own Country,\" Kerala is a tropical paradise with backwaters, coconut palm-lined beaches, and lush greenery.\n",
      "\n",
      "6. Ladakh: Located in the northernmost tip of India, Ladakh is known for its rugged landscapes, high-altitude lakes, and Buddhist monasteries.\n",
      "\n",
      "7. Amrit\n"
     ]
    }
   ],
   "source": [
    "chain = LLMChain(llm=llm, prompt=prompt)\n",
    "\n",
    "print(chain.run(\"India\"))"
   ]
  },
  {
   "cell_type": "markdown",
   "metadata": {},
   "source": [
    "### Simple sequential Chains\n",
    "- involves makin a series of consecutive calls to the language model.\n",
    "- This is valuable when there is a need to utilize the output generated from once call as the input for another call."
   ]
  },
  {
   "cell_type": "code",
   "execution_count": 25,
   "metadata": {},
   "outputs": [],
   "source": [
    "from langchain.chains import SimpleSequentialChain\n",
    "from langchain import HuggingFaceHub"
   ]
  },
  {
   "cell_type": "code",
   "execution_count": 26,
   "metadata": {},
   "outputs": [],
   "source": [
    "template = \"\"\"You have to suggest 5 best places to visit in {place}?\n",
    "\n",
    "YOUR RESPONSE:\n",
    "\"\"\"\n",
    "prompt_template = PromptTemplate(\n",
    "    input_variables=['place'],\n",
    "    template=template\n",
    ")"
   ]
  },
  {
   "cell_type": "code",
   "execution_count": 27,
   "metadata": {},
   "outputs": [],
   "source": [
    "# HF_llm = HuggingFaceHub(repo_id = \"google/flan-t5-large\")\n",
    "llm = OpenAI()"
   ]
  },
  {
   "cell_type": "code",
   "execution_count": 28,
   "metadata": {},
   "outputs": [],
   "source": [
    "place_chain = LLMChain(llm=llm, prompt=prompt_template)"
   ]
  },
  {
   "cell_type": "code",
   "execution_count": 29,
   "metadata": {},
   "outputs": [],
   "source": [
    "template = \"\"\"Give a list pf places, please estimate the expenses to visit all of them in local currency and alo the days needed {expenses}?\n",
    "\n",
    "YOUR RESPONSE:\n",
    "\"\"\"\n",
    "prompt_template = PromptTemplate(\n",
    "    input_variables=['expenses'],\n",
    "    template=template\n",
    ")"
   ]
  },
  {
   "cell_type": "code",
   "execution_count": 30,
   "metadata": {},
   "outputs": [],
   "source": [
    "llm = OpenAI()"
   ]
  },
  {
   "cell_type": "code",
   "execution_count": 31,
   "metadata": {},
   "outputs": [],
   "source": [
    "expenses_chain = LLMChain(llm=llm, prompt=prompt_template)"
   ]
  },
  {
   "cell_type": "code",
   "execution_count": 32,
   "metadata": {},
   "outputs": [],
   "source": [
    "final_chain = SimpleSequentialChain(chains=[place_chain, expenses_chain], verbose=True)"
   ]
  },
  {
   "cell_type": "code",
   "execution_count": 33,
   "metadata": {},
   "outputs": [
    {
     "name": "stdout",
     "output_type": "stream",
     "text": [
      "\n",
      "\n",
      "\u001b[1m> Entering new SimpleSequentialChain chain...\u001b[0m\n",
      "\u001b[36;1m\u001b[1;3m\n",
      "1. Taj Mahal, Agra - One of the Seven Wonders of the World, the Taj Mahal is a must-visit for anyone traveling to India. This stunning monument of love, built by Mughal emperor Shah Jahan for his beloved wife, is a symbol of India's rich history and architectural grandeur.\n",
      "\n",
      "2. Golden Temple, Amritsar - Located in the city of Amritsar, the Golden Temple is a sacred place for Sikhs and a popular tourist destination. The temple's golden exterior, surrounded by a serene pool of water, makes for a breathtaking sight. Visitors can also partake in the community kitchen, where free meals are served to all.\n",
      "\n",
      "3. Kerala Backwaters - The backwaters of Kerala, a network of interconnected canals, lagoons, and lakes, offer a unique and tranquil experience. A houseboat ride through these backwaters allows visitors to witness the beautiful landscapes and local life up close.\n",
      "\n",
      "4. Jaipur, Rajasthan - Known as the \"Pink City\", Jaipur is a vibrant and culturally rich city in the state of Rajasthan. From the majestic Amber Fort to the bustling bazaars, there is plenty to explore in Jaipur. The city also offers a glimpse into India's royal past through\u001b[0m\n",
      "\u001b[33;1m\u001b[1;3m1. Taj Mahal, Agra - Expenses: Approximately 1000 Indian Rupees (INR) for entry fee, 1 day needed for visit\n",
      "\n",
      "2. Golden Temple, Amritsar - Expenses: Free entry, but donations are accepted. 1 day needed for visit.\n",
      "\n",
      "3. Kerala Backwaters - Expenses: Approximately 5000 INR for a houseboat ride, 2-3 days needed for visit.\n",
      "\n",
      "4. Jaipur, Rajasthan - Expenses: Approximately 1000-2000 INR for various attractions and activities, 2-3 days needed for visit.\u001b[0m\n",
      "\n",
      "\u001b[1m> Finished chain.\u001b[0m\n"
     ]
    }
   ],
   "source": [
    "review = final_chain.run(\"India\")"
   ]
  },
  {
   "cell_type": "code",
   "execution_count": null,
   "metadata": {},
   "outputs": [],
   "source": []
  },
  {
   "cell_type": "code",
   "execution_count": null,
   "metadata": {},
   "outputs": [],
   "source": []
  }
 ],
 "metadata": {
  "kernelspec": {
   "display_name": "venv",
   "language": "python",
   "name": "python3"
  },
  "language_info": {
   "codemirror_mode": {
    "name": "ipython",
    "version": 3
   },
   "file_extension": ".py",
   "mimetype": "text/x-python",
   "name": "python",
   "nbconvert_exporter": "python",
   "pygments_lexer": "ipython3",
   "version": "3.8.8"
  }
 },
 "nbformat": 4,
 "nbformat_minor": 2
}
