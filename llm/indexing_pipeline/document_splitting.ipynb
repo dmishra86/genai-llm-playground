{
 "cells": [
  {
   "cell_type": "markdown",
   "metadata": {},
   "source": [
    "# Indexing Pipeline\n",
    "Process of creating an index or database of documents to be used for retrieval during the generation process.\n",
    "\n",
    "Indexing pipeline in the RAG model typically involves the following steps:\n",
    "\n",
    "**1. Document Collection:** Gather a large collection of documents or passages from various sources such as websites, books, articles, etc. These documents serve as the knowledge base from which relevant information can be retrieved.\n",
    "\n",
    "**2. Text Preprocessing:** Preprocess the documents to clean and standardize the text data. This may involve tasks such as tokenization, lowercasing, removing stop words, lemmatization, and stemming.\n",
    "\n",
    "**3. Embedding Generation:** Generate dense vector representations (embeddings) for each document in the collection. These embeddings capture semantic information about the documents and enable efficient similarity calculations during retrieval.\n",
    "\n",
    "**4. Indexing:** Build an index or database structure to store the preprocessed documents and their corresponding embeddings. This index allows for fast and efficient retrieval of relevant documents given a query.\n",
    "\n",
    "**5. Retriever Training (Optional):** Optionally, train a retriever model on top of the indexed documents to improve retrieval performance. This model may use techniques such as sparse retrieval (e.g., BM25) or dense retrieval (e.g., neural network-based models) to rank the documents based on their relevance to a given query.\n",
    "\n",
    "During inference with the RAG model, the indexing pipeline is utilized as follows:\n",
    "\n",
    "**Query Processing:** Given a query input, the retriever component of the RAG model uses the indexing pipeline to efficiently retrieve a set of relevant documents from the indexed collection.\n",
    "\n",
    "**Document Selection:** The retrieved documents are then passed to the generator component, which uses them to condition the generation process. The generator may attend to the retrieved documents to incorporate relevant information into the generated responses or completions.\n",
    "\n",
    "By using an indexing pipeline, the RAG model can effectively leverage external knowledge sources to enhance the quality and relevance of its generated outputs. Additionally, the indexing pipeline enables scalable and efficient retrieval from large document collections, making the RAG model suitable for real-world applications where access to external knowledge is crucial."
   ]
  },
  {
   "cell_type": "markdown",
   "metadata": {},
   "source": [
    "## 1. Document Collection or Loading Data\n",
    "When building a knowledge base for RAG model, it's essential to gather diverse and comprehensive sources of information to cover a wide range of topics and domains. Here are some possible sources of document.\n",
    "  \n",
    "* webpages\n",
    "* ebooks\n",
    "* research papers\n",
    "* government documents\n",
    "* publicly available datasets\n",
    "* social media (twitter, facebook , linkedin, reddit)\n",
    "* online forums (stackoverflow, quora)\n",
    "* questions and answer websites\n",
    "* news archives\n",
    "* digital libraries\n",
    "* multimedia content (images, videos, audio)\n",
    "* patent databases\n",
    "* domain specific sources\n",
    "* educational resources\n",
    "* encyclopedias\n",
    "* databases (sql, noSQL)\n",
    "* APIs (web APIs, REST APIs)\n",
    "* government data portals\n",
    "* market research report\n",
    "* census data\n",
    "* financial reports\n",
    "* Health Records and Medical Databases\n",
    "* Geographic Information Systems (GIS) Data\n",
    "* Climate and Weather Data\n",
    "* Satellite Imagery\n",
    "* Sports Data\n",
    "* Gaming Data\n",
    "* Music and Audio Streaming Platforms\n",
    "* Video Streaming Platforms\n",
    "* Online Retail Platforms\n",
    "* Travel and Tourism Websites\n",
    "* Real Estate Listings\n",
    "* Job Portals\n",
    "* Recipe Websites\n",
    "* Language Corpora and Linguistic Data\n",
    "* Customer Reviews and Ratings\n",
    "* Historical Archives\n",
    "* Cultural Heritage Collections\n",
    "* Public Records\n",
    "* Scientific Instrumentation Data\n",
    "* Environmental Sensor Data\n",
    "* Internet of Things (IoT) Devices\n",
    "* Wearable Devices\n",
    "* Financial Market Data (e.g., Stock Market Data)\n",
    "* Crowd sourced Data\n",
    "* User-Generated Content Platforms\n",
    "* E-commerce Platforms\n",
    "* Subscription-Based Services (e.g., Netflix, Spotify)\n",
    "* Transportation and Logistics Data\n",
    "* Social Network Analysis Data\n"
   ]
  },
  {
   "cell_type": "markdown",
   "metadata": {},
   "source": [
    "### Loading a youtube video transcript"
   ]
  },
  {
   "cell_type": "code",
   "execution_count": null,
   "metadata": {},
   "outputs": [],
   "source": []
  }
 ],
 "metadata": {
  "kernelspec": {
   "display_name": "venv",
   "language": "python",
   "name": "python3"
  },
  "language_info": {
   "codemirror_mode": {
    "name": "ipython",
    "version": 3
   },
   "file_extension": ".py",
   "mimetype": "text/x-python",
   "name": "python",
   "nbconvert_exporter": "python",
   "pygments_lexer": "ipython3",
   "version": "3.8.8"
  }
 },
 "nbformat": 4,
 "nbformat_minor": 2
}
