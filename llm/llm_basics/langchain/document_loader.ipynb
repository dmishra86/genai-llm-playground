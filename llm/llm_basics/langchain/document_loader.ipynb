{
 "cells": [
  {
   "cell_type": "code",
   "execution_count": 11,
   "metadata": {},
   "outputs": [
    {
     "data": {
      "text/plain": [
       "[Document(page_content='# genai-llm-playground\\nThis repository serves as a dynamic arena for exploring and experimenting with Generative Language Models (LLMs).\\n\\nLearning about the Large Langauge Models (LLMs) and their evolution starts with understanding the basics of the Natural Langauge Processing (NLP) and progresses through various advancements and techniques.\\n\\n# Roadmap:\\n\\n## 1. Foundations of NLP:\\n    * Basics of NLP - text processing, tokenization, stemming and lemmatization.\\n    * Statistical methods in NLP - probabilistics langauge models (n-grams, Hidden Markov Models, CRFs etc.)\\n    * Machine Learning for NLP - naive bayes, Support Vector Machines (SVMs), and decision trees.\\n  \\n## 2. Evolution of LLMs:\\n    * Traditional NLP models: Early approaches to NLP, rule-based, hand-crafted features\\n    * Intro to Neural Networks:\\n    * Sequence Models:\\n    * Transformer Architecture: Attention is all you need paper.\\n\\n## 3. Basics of LLMs::\\n    * BERT\\n    * GPT:\\n    * XLNet, RoBERTa, T5 etc.\\n    * Fine Tuning  LLMs\\n\\n## 4. Advanced Topics in LLMs:\\n    * Ethical and societal implications:\\n    * Multimodal LLms\\n    * Continual Learning and Adaptation\\n    * Zero-shot and few-shot learning\\n\\n## 5. Cutting edge research and future directions:\\n    * Recent advances\\n    * Interdisciplinary Applications\\n    * Open problems and Challenges\\n\\n##\\n                                                    Virtual Environment\\n##\\n\\n\\n### Creating a virtual environment (in Windows)\\n\\nRun the following command in the terminal to create a virtual environment in the current directory.\\n\\n    py -3 -m venv venv\\n    .\\\\venv\\\\Scripts\\\\activate.bat\\n\\nFollowing are the most popular python packages for the NLP.\\n\\n* NLTK\\n* spaCy\\n* Transformers\\n* Gensim\\n* TextBlob\\n  \\n', metadata={'source': 'C:\\\\Users\\\\Deependra\\\\Documents\\\\Github-dmishra86\\\\genai-llm-playground\\\\README.md'})]"
      ]
     },
     "execution_count": 11,
     "metadata": {},
     "output_type": "execute_result"
    }
   ],
   "source": [
    "from langchain_community.document_loaders import TextLoader\n",
    "\n",
    "loader = TextLoader(\"C:\\\\Users\\\\Deependra\\\\Documents\\\\Github-dmishra86\\\\genai-llm-playground\\\\README.md\")\n",
    "loader.load()"
   ]
  },
  {
   "cell_type": "code",
   "execution_count": 12,
   "metadata": {},
   "outputs": [],
   "source": [
    "from langchain_community.document_loaders.csv_loader import CSVLoader\n",
    "loader = CSVLoader(file_path='./data/test.csv')\n",
    "data = loader.load()"
   ]
  },
  {
   "cell_type": "code",
   "execution_count": 16,
   "metadata": {},
   "outputs": [],
   "source": [
    "loader = CSVLoader(file_path='./data/test.csv', csv_args={\n",
    "    'delimiter': ',',\n",
    "    'quotechar': '\"',\n",
    "    'fieldnames': ['Name', 'Account', 'Age', 'Sex']\n",
    "})\n",
    "\n",
    "data = loader.load()"
   ]
  },
  {
   "cell_type": "code",
   "execution_count": 17,
   "metadata": {},
   "outputs": [
    {
     "data": {
      "text/plain": [
       "[Document(page_content='Name: name\\nAccount: account\\nAge: age\\nSex: sex', metadata={'source': './data/test.csv', 'row': 0}),\n",
       " Document(page_content='Name: DM\\nAccount: 001\\nAge: 37\\nSex: M', metadata={'source': './data/test.csv', 'row': 1})]"
      ]
     },
     "execution_count": 17,
     "metadata": {},
     "output_type": "execute_result"
    }
   ],
   "source": [
    "data"
   ]
  }
 ],
 "metadata": {
  "kernelspec": {
   "display_name": "venv",
   "language": "python",
   "name": "python3"
  },
  "language_info": {
   "codemirror_mode": {
    "name": "ipython",
    "version": 3
   },
   "file_extension": ".py",
   "mimetype": "text/x-python",
   "name": "python",
   "nbconvert_exporter": "python",
   "pygments_lexer": "ipython3",
   "version": "3.8.8"
  }
 },
 "nbformat": 4,
 "nbformat_minor": 2
}
